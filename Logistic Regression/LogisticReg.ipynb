{
 "cells": [
  {
   "cell_type": "code",
   "execution_count": 15,
   "id": "32f775a6-c3df-4fb9-b8d5-5cf69834b25f",
   "metadata": {},
   "outputs": [],
   "source": [
    "import numpy as np\n",
    "import pandas as pd\n",
    "import pickle\n",
    "from sklearn.model_selection import train_test_split\n",
    "from sklearn.preprocessing import StandardScaler\n",
    "from sklearn.linear_model import LogisticRegression\n",
    "from sklearn.datasets import load_breast_cancer\n",
    "from sklearn.metrics import accuracy_score\n",
    "\n"
   ]
  },
  {
   "cell_type": "code",
   "execution_count": 17,
   "id": "7d67e5ca-72f0-4925-b5a8-77ea15a48067",
   "metadata": {},
   "outputs": [],
   "source": [
    "# Load dataset\n",
    "data = load_breast_cancer()\n",
    "df = pd.DataFrame(data.data, columns=data.feature_names)\n",
    "df['target'] = data.target"
   ]
  },
  {
   "cell_type": "code",
   "execution_count": 5,
   "id": "fc84084b-6c9c-41c9-8a4a-c6fca6f7b53d",
   "metadata": {},
   "outputs": [],
   "source": [
    "# Split dataset\n",
    "X = df.drop(columns=['target'])\n",
    "y = df['target']\n",
    "X_train, X_test, y_train, y_test = train_test_split(X, y, test_size=0.2, random_state=42)"
   ]
  },
  {
   "cell_type": "code",
   "execution_count": 19,
   "id": "5bc57e94-0437-49d1-8d9b-8678e9913aeb",
   "metadata": {},
   "outputs": [
    {
     "name": "stdout",
     "output_type": "stream",
     "text": [
      "l1 regularization accuracy: 0.9737\n",
      "l2 regularization accuracy: 0.9737\n",
      "elasticnet regularization accuracy: 0.9737\n"
     ]
    }
   ],
   "source": [
    "# Train models with different regularizations\n",
    "models = {\n",
    "    \"l1\": LogisticRegression(penalty='l1', solver='liblinear', C=1.0, max_iter=500),\n",
    "    \"l2\": LogisticRegression(penalty='l2', solver='liblinear', C=1.0, max_iter=500),\n",
    "    \"elasticnet\": LogisticRegression(penalty='elasticnet', solver='saga', l1_ratio=0.5, C=1.0, max_iter=1000)\n",
    "}\n",
    "\n",
    "trained_models = {}\n",
    "\n",
    "for key, model in models.items():\n",
    "    model.fit(X_train, y_train)\n",
    "    y_pred = model.predict(X_test)\n",
    "    acc = accuracy_score(y_test, y_pred)\n",
    "    print(f\"{key} regularization accuracy: {acc:.4f}\")\n",
    "    trained_models[key] = model\n"
   ]
  },
  {
   "cell_type": "code",
   "execution_count": 21,
   "id": "b1820d1f-c47c-4443-b5b2-69f7b08011b9",
   "metadata": {},
   "outputs": [
    {
     "name": "stdout",
     "output_type": "stream",
     "text": [
      "l1 regularization accuracy: 0.9737\n",
      "l2 regularization accuracy: 0.9737\n",
      "elasticnet regularization accuracy: 0.9737\n"
     ]
    }
   ],
   "source": [
    "# Train models with different regularizations\n",
    "models = {\n",
    "    \"l1\": LogisticRegression(penalty='l1', solver='liblinear', C=1.0, max_iter=500),\n",
    "    \"l2\": LogisticRegression(penalty='l2', solver='liblinear', C=1.0, max_iter=500),\n",
    "    \"elasticnet\": LogisticRegression(penalty='elasticnet', solver='saga', l1_ratio=0.5, C=1.0, max_iter=1000)\n",
    "}\n",
    "\n",
    "\n",
    "trained_models = {}\n",
    "\n",
    "for key, model in models.items():\n",
    "    model.fit(X_train, y_train)\n",
    "    y_pred = model.predict(X_test)\n",
    "    acc = accuracy_score(y_test, y_pred)\n",
    "    print(f\"{key} regularization accuracy: {acc:.4f}\")\n",
    "    trained_models[key] = model"
   ]
  },
  {
   "cell_type": "code",
   "execution_count": 23,
   "id": "686cbfd5-f2e1-437a-9e83-3d24ada6ad12",
   "metadata": {},
   "outputs": [
    {
     "name": "stdout",
     "output_type": "stream",
     "text": [
      "Models and scaler saved successfully.\n"
     ]
    }
   ],
   "source": [
    "# Save model & scaler\n",
    "with open(\"model.pkl\", \"wb\") as f:\n",
    "    pickle.dump(trained_models, f)\n",
    "with open(\"scaler.pkl\", \"wb\") as f:\n",
    "    pickle.dump(scaler, f)\n",
    "\n",
    "print(\"Models and scaler saved successfully.\")\n"
   ]
  },
  {
   "cell_type": "code",
   "execution_count": null,
   "id": "e43e8707-715b-4078-a1ed-d643d0ba74ac",
   "metadata": {},
   "outputs": [],
   "source": []
  }
 ],
 "metadata": {
  "kernelspec": {
   "display_name": "Python 3 (ipykernel)",
   "language": "python",
   "name": "python3"
  },
  "language_info": {
   "codemirror_mode": {
    "name": "ipython",
    "version": 3
   },
   "file_extension": ".py",
   "mimetype": "text/x-python",
   "name": "python",
   "nbconvert_exporter": "python",
   "pygments_lexer": "ipython3",
   "version": "3.12.7"
  }
 },
 "nbformat": 4,
 "nbformat_minor": 5
}
